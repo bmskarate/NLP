{
 "cells": [
  {
   "cell_type": "code",
   "execution_count": 4,
   "metadata": {},
   "outputs": [],
   "source": [
    "import nltk\n",
    "from nltk.corpus import stopwords\n",
    "from nltk.tokenize import word_tokenize"
   ]
  },
  {
   "cell_type": "code",
   "execution_count": 2,
   "metadata": {},
   "outputs": [],
   "source": [
    "# stopwords are words that are common in many languages and are not useful for our purposes"
   ]
  },
  {
   "cell_type": "code",
   "execution_count": 5,
   "metadata": {},
   "outputs": [
    {
     "name": "stdout",
     "output_type": "stream",
     "text": [
      "{\"hasn't\", 'her', 'few', 'ain', \"you've\", 'mightn', \"it's\", 'only', 'yours', 'which', 'couldn', 'as', 'if', 's', 'hasn', 'have', 'isn', 'their', \"shouldn't\", 'this', 'above', 'by', \"hadn't\", 'up', 'you', \"haven't\", 'because', 'be', 'how', 'when', 'about', 'both', 'shan', 'his', 'during', 'myself', 'doing', 'own', 'whom', 'with', 'down', 'm', 't', 'won', 'are', 'should', 'all', 'yourself', 'your', 'now', \"aren't\", 'than', \"needn't\", \"she's\", 'such', 'an', 'y', 'these', 'under', 'been', 'further', 'they', \"doesn't\", \"wasn't\", 'ourselves', 'o', 'too', 'hadn', 'its', 'of', 'against', \"you're\", 'who', 'doesn', 'for', 'out', 'the', 'on', \"wouldn't\", \"won't\", 'is', 'very', 'no', 'any', \"didn't\", 'wouldn', 'does', \"should've\", 'while', 'our', 'me', 'where', 'haven', 'ours', 'from', 'off', 'not', 'to', 'in', \"mightn't\", 'most', 'that', 'needn', 'then', 'nor', 'until', 'didn', 'them', 'theirs', 'below', \"you'll\", 'those', 'same', 'why', 'him', 'again', 'shouldn', 'other', 'do', 're', 'd', 'and', 'had', 'into', 'some', 'having', \"you'd\", 'ma', 'a', 'it', 'before', 'there', 'can', 'through', 'just', \"couldn't\", 'between', 'here', 'aren', 'so', 'has', 'but', 'am', 'weren', 'each', \"don't\", 'were', 'being', 'we', 'after', 'yourselves', 'himself', 'what', 'don', 'he', 'themselves', 'was', 'or', 'i', 'she', 'will', \"that'll\", 'did', 'once', 'itself', 'wasn', 'herself', 'hers', 've', 'll', \"mustn't\", 'more', 'at', \"isn't\", 'my', \"shan't\", 'over', \"weren't\", 'mustn'}\n"
     ]
    }
   ],
   "source": [
    "example_sentence = \"This is an example showing off stop word filtration.\"\n",
    "stop_words = set(stopwords.words(\"english\"))\n",
    "# predefined by NLTK. Can add your own, but it's a lot of work\n",
    "print(stop_words)"
   ]
  },
  {
   "cell_type": "code",
   "execution_count": 12,
   "metadata": {},
   "outputs": [],
   "source": [
    "words = word_tokenize(example_sentence)\n",
    "filtered_sentence = []"
   ]
  },
  {
   "cell_type": "code",
   "execution_count": 13,
   "metadata": {},
   "outputs": [],
   "source": [
    "for w in words:\n",
    "    if w not in stop_words:\n",
    "        filtered_sentence.append(w)\n",
    "# filtered_sentence = [w for w in words if w not in stop_words]"
   ]
  },
  {
   "cell_type": "code",
   "execution_count": 14,
   "metadata": {},
   "outputs": [
    {
     "name": "stdout",
     "output_type": "stream",
     "text": [
      "['This', 'example', 'showing', 'stop', 'word', 'filtration', '.']\n"
     ]
    }
   ],
   "source": [
    "print(filtered_sentence)"
   ]
  },
  {
   "cell_type": "code",
   "execution_count": null,
   "metadata": {},
   "outputs": [],
   "source": []
  }
 ],
 "metadata": {
  "interpreter": {
   "hash": "7257430773ff2786ada9528d4be6e0e9fe11a1482846f09bd681c7e1b20b89d3"
  },
  "kernelspec": {
   "display_name": "Python 3.6.13 64-bit ('tensorflow': conda)",
   "language": "python",
   "name": "python3"
  },
  "language_info": {
   "codemirror_mode": {
    "name": "ipython",
    "version": 3
   },
   "file_extension": ".py",
   "mimetype": "text/x-python",
   "name": "python",
   "nbconvert_exporter": "python",
   "pygments_lexer": "ipython3",
   "version": "3.6.13"
  },
  "orig_nbformat": 4
 },
 "nbformat": 4,
 "nbformat_minor": 2
}
